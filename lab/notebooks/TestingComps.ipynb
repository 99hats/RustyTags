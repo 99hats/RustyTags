{
 "cells": [
  {
   "cell_type": "code",
   "execution_count": 1,
   "id": "4f2f8f75",
   "metadata": {},
   "outputs": [
    {
     "name": "stdout",
     "output_type": "stream",
     "text": [
      "<!doctype html><html class=\"bg-background text-foreground font-sans antialiased\"><head><title>D* Demo</title><script type=\"module\" src=\"https://cdn.jsdelivr.net/gh/starfederation/datastar@main/bundles/datastar.js\"></script><script src=\"https://cdn.jsdelivr.net/gh/starfederation/datastar@main/bundles/datastar.js\" type=\"module\"></script><script src=\"https://unpkg.com/lucide@latest\"></script></head><body class=\"h-screen p-16 bg-white text-foreground font-sans antialiased\"><div data-signals=\"{'message':'Hello, from datastar signals!'}\"><h1 class=\"text-4xl font-bold\" data-text=\"$message\"></h1></div><script>lucide.createIcons();</script></body></html>\n"
     ]
    },
    {
     "data": {
      "text/html": [
       "<!doctype html><html class=\"bg-background text-foreground font-sans antialiased\"><head><title>D* Demo</title><script type=\"module\" src=\"https://cdn.jsdelivr.net/gh/starfederation/datastar@main/bundles/datastar.js\"></script><script src=\"https://cdn.jsdelivr.net/gh/starfederation/datastar@main/bundles/datastar.js\" type=\"module\"></script><script src=\"https://unpkg.com/lucide@latest\"></script></head><body class=\"h-screen p-16 bg-white text-foreground font-sans antialiased\"><div data-signals=\"{'message':'Hello, from datastar signals!'}\"><h1 class=\"text-4xl font-bold\" data-text=\"$message\"></h1></div><script>lucide.createIcons();</script></body></html>"
      ],
      "text/plain": [
       "<IPython.core.display.HTML object>"
      ]
     },
     "execution_count": 1,
     "metadata": {},
     "output_type": "execute_result"
    }
   ],
   "source": [
    "from rusty_tags import *\n",
    "from rusty_tags.datastar import Signals\n",
    "from rusty_tags.utils import create_template, show, page_template\n",
    "\n",
    "hdrs = (\n",
    "    Script(src=\"https://cdn.jsdelivr.net/gh/starfederation/datastar@main/bundles/datastar.js\", type=\"module\"),\n",
    ")\n",
    "htmlkws = dict(cls=\"bg-background text-foreground font-sans antialiased\")\n",
    "bodykws = dict(cls=\"h-screen p-16 bg-white text-foreground font-sans antialiased\")\n",
    "page = create_template(hdrs=hdrs, htmlkw=htmlkws, bodykw=bodykws)\n",
    "template = page_template(hdrs=hdrs, htmlkw=htmlkws, bodykw=bodykws)\n",
    "\n",
    "@page(title=\"D* Demo\")\n",
    "def index():\n",
    "    return Div(\n",
    "        H1(text=\"$message\", cls=\"text-4xl font-bold\"),\n",
    "        signals=Signals(message=\"Hello, from datastar signals!\"),\n",
    "    )\n",
    "\n",
    "indexPage = index()\n",
    "print(indexPage)\n",
    "show(indexPage)"
   ]
  },
  {
   "cell_type": "code",
   "execution_count": 2,
   "id": "7a644763",
   "metadata": {},
   "outputs": [
    {
     "name": "stdout",
     "output_type": "stream",
     "text": [
      "Id: The unique identifier for the user - Default: PydanticUndefined\n",
      "Name: The name of the user - Default: PydanticUndefined\n",
      "Email: The email address of the user - Default: PydanticUndefined\n",
      "Age: None - Default: 100\n"
     ]
    }
   ],
   "source": [
    "from pydantic import BaseModel, Field\n",
    "from typing import Optional\n",
    "\n",
    "class User(BaseModel):\n",
    "    id: int = Field(description=\"The unique identifier for the user\")\n",
    "    name: str = Field(description=\"The name of the user\")\n",
    "    email: Optional[str] = Field(description=\"The email address of the user\")\n",
    "    age: Optional[int] = 100\n",
    "\n",
    "for field, field_info in User.model_fields.items():\n",
    "    print(f\"{field.capitalize()}: {field_info.description} - Default: {field_info.default}\")\n",
    "\n"
   ]
  },
  {
   "cell_type": "code",
   "execution_count": 3,
   "id": "33a0221a",
   "metadata": {},
   "outputs": [],
   "source": [
    "def display(component):\n",
    "    return show(template(component))\n"
   ]
  },
  {
   "cell_type": "code",
   "execution_count": 4,
   "id": "66c7405a",
   "metadata": {},
   "outputs": [
    {
     "data": {
      "text/html": [
       "<!doctype html><html class=\"bg-background text-foreground font-sans antialiased\"><head><title>MyPage</title><script type=\"module\" src=\"https://cdn.jsdelivr.net/gh/starfederation/datastar@main/bundles/datastar.js\"></script><script src=\"https://cdn.jsdelivr.net/gh/starfederation/datastar@main/bundles/datastar.js\" type=\"module\"></script><fragment></fragment></head><body class=\"h-screen p-16 bg-white text-foreground font-sans antialiased\"><div><div class=\"border rounded-md mb-2 p-1\"><label class=\"uk-label text-md\">Id :</label><span class=\"text-md\" title=\"The unique identifier for the user\">1</span></div><div class=\"border rounded-md mb-2 p-1\"><label class=\"uk-label text-md\">Name :</label><span class=\"text-md\" title=\"The name of the user\">John Doe</span></div><div class=\"border rounded-md mb-2 p-1\"><label class=\"uk-label text-md\">Email :</label><span class=\"text-md\" title=\"The email address of the user\">john.doe@example.com</span></div><div class=\"border rounded-md mb-2 p-1\"><label class=\"uk-label text-md\">Age :</label><span class=\"text-md\" title>100</span></div></div><fragment></fragment></body></html>"
      ],
      "text/plain": [
       "<IPython.core.display.HTML object>"
      ]
     },
     "execution_count": 4,
     "metadata": {},
     "output_type": "execute_result"
    }
   ],
   "source": [
    "def render_view(instance: BaseModel):\n",
    "    components = []\n",
    "    for field_name, field_info in instance.__class__.model_fields.items():\n",
    "        value = getattr(instance, field_name)\n",
    "        components.append(\n",
    "            Div(\n",
    "                Label(f\"{field_info.title or field_name.capitalize()} :\", cls=\"uk-label text-md\"),\n",
    "                Span(str(value), title=field_info.description or \"\", cls=\"text-md\"),\n",
    "                cls=\"border rounded-md mb-2 p-1\"\n",
    "            )\n",
    "        )\n",
    "    return Div(*components)\n",
    "\n",
    "user = User(id=1, name=\"John Doe\", email=\"john.doe@example.com\")\n",
    "display(render_view(user))"
   ]
  },
  {
   "cell_type": "code",
   "execution_count": 5,
   "id": "752c2dc2",
   "metadata": {},
   "outputs": [
    {
     "name": "stdout",
     "output_type": "stream",
     "text": [
      "user._Sname = $User.name\n",
      "user._name = User.name\n",
      "user.name = John Doe 2\n",
      "user = {User: {'name': 'John Doe 2', 'age': 35, 'namespace': 'User'}}\n"
     ]
    }
   ],
   "source": [
    "from rusty_tags.utils import AttrDict\n",
    "from typing import Any\n",
    "\n",
    "class Signals(AttrDict):\n",
    "    \"\"\"\n",
    "    A dictionary of signals with reactive capabilities.\n",
    "    \"\"\"\n",
    "    def __new__(cls, *args, **kwargs) -> None:\n",
    "        instance = super().__new__(cls)\n",
    "        instance.__init__(*args, **kwargs)\n",
    "        instance._post_init(*args, **kwargs)\n",
    "        return instance\n",
    "\n",
    "    def _post_init(self, *args, **kwargs):\n",
    "        if \"namespace\" in kwargs:\n",
    "            setattr(self, \"_namespace\", kwargs.pop(\"namespace\"))\n",
    "        \n",
    "        super().__init__(**kwargs)\n",
    "\n",
    "        for k, v in kwargs.items():\n",
    "            setattr(self, f\"_{k}\", f\"{self._namespace}.{k}\" if self._namespace else k)\n",
    "            setattr(self, f\"_S{k}\", f\"${self._namespace}.{k}\" if self._namespace else f\"${k}\")\n",
    "        \n",
    "    def __str__(self):\n",
    "        return f\"{{{self._namespace}: {super().__str__()}}}\" if self._namespace else super().__str__()\n",
    "user = Signals(name=\"John Doe 2\", age=35, namespace=\"User\")\n",
    "\n",
    "print(f\"user._Sname = {user._Sname}\")\n",
    "print(f\"user._name = {user._name}\")\n",
    "print(f\"user.name = {user.name}\")\n",
    "print(f\"user = {user}\")\n"
   ]
  },
  {
   "cell_type": "code",
   "execution_count": 6,
   "id": "d2e1b10a",
   "metadata": {},
   "outputs": [
    {
     "name": "stdout",
     "output_type": "stream",
     "text": [
      "user._Sname = $name\n",
      "user._name = name\n",
      "user.name = John Doe 2\n",
      "user = {'name': 'John Doe 2', 'age': 35}\n"
     ]
    }
   ],
   "source": [
    "user = Signals(name=\"John Doe 2\", age=35)\n",
    "\n",
    "print(f\"user._Sname = {user._Sname}\")\n",
    "print(f\"user._name = {user._name}\")\n",
    "print(f\"user.name = {user.name}\")\n",
    "print(f\"user = {user}\")\n"
   ]
  },
  {
   "cell_type": "code",
   "execution_count": 7,
   "id": "2b436216",
   "metadata": {},
   "outputs": [
    {
     "name": "stdout",
     "output_type": "stream",
     "text": [
      "user._Sname = $name\n",
      "user._name = name\n",
      "user.name = John Doe 2\n"
     ]
    }
   ],
   "source": [
    "usrDict = {'name': 'John Doe 2', 'age': 35}\n",
    "\n",
    "user = Signals(**usrDict)\n",
    "\n",
    "print(f\"user._Sname = {user._Sname}\")\n",
    "print(f\"user._name = {user._name}\")\n",
    "print(f\"user.name = {user.name}\")\n"
   ]
  },
  {
   "cell_type": "code",
   "execution_count": 8,
   "id": "e60b6f26",
   "metadata": {},
   "outputs": [
    {
     "data": {
      "text/plain": [
       "'John Doe 2'"
      ]
     },
     "execution_count": 8,
     "metadata": {},
     "output_type": "execute_result"
    }
   ],
   "source": [
    "usrDict2 = {\"user\": AttrDict({'name': 'John Doe 2', 'age': 35})}\n",
    "user2 = Signals(usrDict2)\n",
    "\n",
    "user2.user\n",
    "user2.user.name"
   ]
  },
  {
   "cell_type": "markdown",
   "id": "4d1d54af",
   "metadata": {},
   "source": [
    "## Styling"
   ]
  },
  {
   "cell_type": "code",
   "execution_count": 9,
   "id": "c6948818",
   "metadata": {},
   "outputs": [],
   "source": [
    "TextT = AttrDict()\n",
    "'Text Styles from https://franken-ui.dev/docs/text'\n",
    "    \n",
    "TextT.paragraph = \"uk-paragraph\"\n",
    "# Text Style\n",
    "TextT.lead, TextT.meta, TextT.gray, TextT.italic= \"lead\", \"meta\", 'text-gray-500 dark:text-gray-200', 'italic'\n",
    "# Text Size\n",
    "TextT.xs, TextT.sm, TextT.lg, TextT.xl = 'text-xs', 'text-sm', 'text-lg', 'text-xl'\n",
    "# Text Weight\n",
    "TextT.light, TextT.normal, TextT.medium, TextT.bold, TextT.extrabold = 'font-light','font-normal','font-medium','font-bold','font-extrabold'\n",
    "# Text Color\n",
    "TextT.muted,TextT.primary,TextT.secondary = 'text-gray-500 dark:text-gray-200', 'text-primary', 'text-secondary'\n"
   ]
  },
  {
   "cell_type": "code",
   "execution_count": null,
   "id": "1a29c8ef",
   "metadata": {},
   "outputs": [
    {
     "name": "stdout",
     "output_type": "stream",
     "text": [
      "h-24 w-24\n",
      "h-24 w-24\n"
     ]
    }
   ],
   "source": [
    "\n"
   ]
  }
 ],
 "metadata": {
  "kernelspec": {
   "display_name": ".venv",
   "language": "python",
   "name": "python3"
  },
  "language_info": {
   "codemirror_mode": {
    "name": "ipython",
    "version": 3
   },
   "file_extension": ".py",
   "mimetype": "text/x-python",
   "name": "python",
   "nbconvert_exporter": "python",
   "pygments_lexer": "ipython3",
   "version": "3.12.9"
  }
 },
 "nbformat": 4,
 "nbformat_minor": 5
}
