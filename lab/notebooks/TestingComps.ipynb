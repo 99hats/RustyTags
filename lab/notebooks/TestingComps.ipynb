{
 "cells": [
  {
   "cell_type": "code",
   "execution_count": null,
   "id": "4f2f8f75",
   "metadata": {},
   "outputs": [
    {
     "name": "stdout",
     "output_type": "stream",
     "text": [
      "<!doctype html><html class=\"bg-background text-foreground font-sans antialiased\"><head><title>D* Demo</title><script type=\"module\" src=\"https://cdn.jsdelivr.net/gh/starfederation/datastar@main/bundles/datastar.js\"></script><script src=\"https://cdn.jsdelivr.net/gh/starfederation/datastar@main/bundles/datastar.js\" type=\"module\"></script></head><body class=\"h-screen p-16 bg-white text-foreground font-sans antialiased\"><div data-signals=\"{'message':'Hello, from datastar signals!'}\"><h1 class=\"text-4xl font-bold\" data-text=\"$message\"></h1></div></body></html>\n"
     ]
    },
    {
     "data": {
      "text/html": [
       "<!doctype html><html class=\"bg-background text-foreground font-sans antialiased\"><head><title>D* Demo</title><script type=\"module\" src=\"https://cdn.jsdelivr.net/gh/starfederation/datastar@main/bundles/datastar.js\"></script><script src=\"https://cdn.jsdelivr.net/gh/starfederation/datastar@main/bundles/datastar.js\" type=\"module\"></script></head><body class=\"h-screen p-16 bg-white text-foreground font-sans antialiased\"><div data-signals=\"{'message':'Hello, from datastar signals!'}\"><h1 class=\"text-4xl font-bold\" data-text=\"$message\"></h1></div></body></html>"
      ],
      "text/plain": [
       "<IPython.core.display.HTML object>"
      ]
     },
     "execution_count": 9,
     "metadata": {},
     "output_type": "execute_result"
    }
   ],
   "source": [
    "from rusty_tags import *\n",
    "from rusty_tags.datastar import Signals\n",
    "from rusty_tags.utils import create_template, show\n",
    "\n",
    "hdrs = (\n",
    "    Script(src=\"https://cdn.jsdelivr.net/gh/starfederation/datastar@main/bundles/datastar.js\", type=\"module\"),\n",
    ")\n",
    "htmlkws = dict(cls=\"bg-background text-foreground font-sans antialiased\")\n",
    "bodykws = dict(cls=\"h-screen p-16 bg-white text-foreground font-sans antialiased\")\n",
    "page = create_template(hdrs=hdrs, htmlkw=htmlkws, bodykw=bodykws)\n",
    "\n",
    "@page(title=\"D* Demo\")\n",
    "def index():\n",
    "    return Div(\n",
    "        H1(text=\"$message\", cls=\"text-4xl font-bold\"),\n",
    "        signals=Signals(message=\"Hello, from datastar signals!\"),\n",
    "    )\n",
    "\n",
    "indexPage = index()\n",
    "print(indexPage)\n",
    "show(indexPage)"
   ]
  },
  {
   "cell_type": "code",
   "execution_count": 10,
   "id": "7a644763",
   "metadata": {},
   "outputs": [
    {
     "name": "stdout",
     "output_type": "stream",
     "text": [
      "Id: The unique identifier for the user - Default: PydanticUndefined\n",
      "Name: The name of the user - Default: PydanticUndefined\n",
      "Email: The email address of the user - Default: PydanticUndefined\n",
      "Age: None - Default: 100\n"
     ]
    }
   ],
   "source": [
    "from pydantic import BaseModel, Field\n",
    "from typing import Optional\n",
    "\n",
    "class User(BaseModel):\n",
    "    id: int = Field(description=\"The unique identifier for the user\")\n",
    "    name: str = Field(description=\"The name of the user\")\n",
    "    email: Optional[str] = Field(description=\"The email address of the user\")\n",
    "    age: Optional[int] = 100\n",
    "\n",
    "for field, field_info in User.model_fields.items():\n",
    "    print(f\"{field.capitalize()}: {field_info.description} - Default: {field_info.default}\")\n",
    "\n"
   ]
  },
  {
   "cell_type": "code",
   "execution_count": 7,
   "id": "33a0221a",
   "metadata": {},
   "outputs": [],
   "source": [
    "def display(component):\n",
    "    return show(template(component))\n"
   ]
  },
  {
   "cell_type": "code",
   "execution_count": 8,
   "id": "66c7405a",
   "metadata": {},
   "outputs": [
    {
     "ename": "NameError",
     "evalue": "name 'template' is not defined",
     "output_type": "error",
     "traceback": [
      "\u001b[31m---------------------------------------------------------------------------\u001b[39m",
      "\u001b[31mNameError\u001b[39m                                 Traceback (most recent call last)",
      "\u001b[36mCell\u001b[39m\u001b[36m \u001b[39m\u001b[32mIn[8]\u001b[39m\u001b[32m, line 15\u001b[39m\n\u001b[32m     12\u001b[39m     \u001b[38;5;28;01mreturn\u001b[39;00m Div(*components)\n\u001b[32m     14\u001b[39m user = User(\u001b[38;5;28mid\u001b[39m=\u001b[32m1\u001b[39m, name=\u001b[33m\"\u001b[39m\u001b[33mJohn Doe\u001b[39m\u001b[33m\"\u001b[39m, email=\u001b[33m\"\u001b[39m\u001b[33mjohn.doe@example.com\u001b[39m\u001b[33m\"\u001b[39m)\n\u001b[32m---> \u001b[39m\u001b[32m15\u001b[39m \u001b[43mdisplay\u001b[49m\u001b[43m(\u001b[49m\u001b[43mrender_view\u001b[49m\u001b[43m(\u001b[49m\u001b[43muser\u001b[49m\u001b[43m)\u001b[49m\u001b[43m)\u001b[49m\n",
      "\u001b[36mCell\u001b[39m\u001b[36m \u001b[39m\u001b[32mIn[7]\u001b[39m\u001b[32m, line 2\u001b[39m, in \u001b[36mdisplay\u001b[39m\u001b[34m(component)\u001b[39m\n\u001b[32m      1\u001b[39m \u001b[38;5;28;01mdef\u001b[39;00m\u001b[38;5;250m \u001b[39m\u001b[34mdisplay\u001b[39m(component):\n\u001b[32m----> \u001b[39m\u001b[32m2\u001b[39m     \u001b[38;5;28;01mreturn\u001b[39;00m show(\u001b[43mtemplate\u001b[49m(component))\n",
      "\u001b[31mNameError\u001b[39m: name 'template' is not defined"
     ]
    }
   ],
   "source": [
    "def render_view(instance: BaseModel):\n",
    "    components = []\n",
    "    for field_name, field_info in instance.__class__.model_fields.items():\n",
    "        value = getattr(instance, field_name)\n",
    "        components.append(\n",
    "            Div(\n",
    "                Label(f\"{field_info.title or field_name.capitalize()} :\", cls=\"uk-label text-md\"),\n",
    "                Span(str(value), title=field_info.description or \"\", cls=\"text-md\"),\n",
    "                cls=\"border rounded-md mb-2 p-1\"\n",
    "            )\n",
    "        )\n",
    "    return Div(*components)\n",
    "\n",
    "user = User(id=1, name=\"John Doe\", email=\"john.doe@example.com\")\n",
    "display(render_view(user))"
   ]
  },
  {
   "cell_type": "code",
   "execution_count": null,
   "id": "752c2dc2",
   "metadata": {},
   "outputs": [
    {
     "name": "stdout",
     "output_type": "stream",
     "text": [
      "$name age\n"
     ]
    }
   ],
   "source": [
    "from pydantic import BaseModel, Field, ConfigDict\n",
    "from typing import Any\n",
    "\n",
    "class SignalDescriptor:\n",
    "    \"\"\"Return `$Model.field` on the class, real value on an instance.\"\"\"\n",
    "\n",
    "    def __init__(self, field_name: str) -> None:\n",
    "        self.field_name = field_name\n",
    "\n",
    "    def __get__(self, instance, owner):\n",
    "        #  class access  →  owner is the model class, instance is None\n",
    "        if instance is None:\n",
    "            ns = owner._namespace\n",
    "            use_ns = owner._use_namespace\n",
    "            return f\"${ns}.{self.field_name}\" if use_ns else f\"${self.field_name}\"\n",
    "\n",
    "        #  instance access  →  behave like a normal attribute\n",
    "        return instance.__dict__[self.field_name]\n",
    "    \n",
    "class Signals(BaseModel):\n",
    "    model_config = ConfigDict(extra=\"allow\")\n",
    "    _namespace = \"signals\"\n",
    "    _use_namespace = False\n",
    "\n",
    "    def __init__(self, **kwargs: Any) -> None:\n",
    "        super().__init__(**kwargs)\n",
    "        for k, v in kwargs.items():\n",
    "            setattr(self, f\"_{k}\", k)\n",
    "            setattr(self, f\"_S{k}\", f\"${k}\")\n",
    "\n",
    "    @classmethod\n",
    "    def __pydantic_init_subclass__(cls, **kwargs: Any) -> None:\n",
    "        super().__pydantic_init_subclass__(**kwargs)\n",
    "        # Create signal descriptors for all model fields\n",
    "        for field_name in cls.model_fields:\n",
    "            setattr(cls, f\"S{field_name}\", SignalDescriptor(field_name))\n",
    "        for field_name in cls.model_computed_fields:\n",
    "            setattr(cls, f\"S{field_name}\", SignalDescriptor(field_name))\n",
    "\n",
    "sigs = Signals(name=\"John Doe\", age=100)\n",
    "print(sigs._Sname, sigs._age)\n"
   ]
  },
  {
   "cell_type": "code",
   "execution_count": null,
   "id": "d2e1b10a",
   "metadata": {},
   "outputs": [
    {
     "name": "stdout",
     "output_type": "stream",
     "text": [
      "$name name John Doe\n"
     ]
    },
    {
     "data": {
      "text/plain": [
       "\"$default='signals'.name\""
      ]
     },
     "execution_count": 192,
     "metadata": {},
     "output_type": "execute_result"
    }
   ],
   "source": [
    "class User(Signals):\n",
    "    name: str\n",
    "    age: int\n",
    "\n",
    "user = User(name=\"John Doe\", age=100)\n",
    "print(user._Sname, user._name, user.name)\n",
    "User.Sname"
   ]
  }
 ],
 "metadata": {
  "kernelspec": {
   "display_name": ".venv",
   "language": "python",
   "name": "python3"
  },
  "language_info": {
   "codemirror_mode": {
    "name": "ipython",
    "version": 3
   },
   "file_extension": ".py",
   "mimetype": "text/x-python",
   "name": "python",
   "nbconvert_exporter": "python",
   "pygments_lexer": "ipython3",
   "version": "3.12.9"
  }
 },
 "nbformat": 4,
 "nbformat_minor": 5
}
