{
 "cells": [
  {
   "cell_type": "code",
   "execution_count": 37,
   "id": "e932ffe7",
   "metadata": {},
   "outputs": [],
   "source": [
    "from blinker import signal\n",
    "\n",
    "def send_sig(signal_name, **kwargs):\n",
    "    s = signal(\"events\")\n",
    "    return s.send(signal_name,**kwargs)\n",
    "\n",
    "\n",
    "events = signal(\"events\")\n",
    "# @events.connect_via(\"test\")\n",
    "# def on_test(sender, message: str):\n",
    "#     print(f\"Received notification: {message}\")\n",
    "\n",
    "@events.connect\n",
    "def log(sender, **kwargs):\n",
    "    yield f\"Logging signal: Sender: {sender} Args: {kwargs}\"\n",
    "    print(f\"Logging signal: Sender: {sender} Args: {kwargs}\")"
   ]
  },
  {
   "cell_type": "code",
   "execution_count": 38,
   "id": "ee27832f",
   "metadata": {},
   "outputs": [
    {
     "name": "stdout",
     "output_type": "stream",
     "text": [
      "Logging signal: Sender: test2 Args: {'message': 'Hello'}\n"
     ]
    },
    {
     "data": {
      "text/plain": [
       "[(<function __main__.log(sender, **kwargs)>, None),\n",
       " (<function __main__.log(sender, **kwargs)>,\n",
       "  <generator object log at 0x7f710b2917e0>)]"
      ]
     },
     "execution_count": 38,
     "metadata": {},
     "output_type": "execute_result"
    }
   ],
   "source": [
    "results = send_sig(\"test2\", message=\"Hello\")\n",
    "# send_sig(\"test3\", **{\"a\": 2, \"b\": 2})\n",
    "# signal(\"test2\").send(\"test2\", message=\"Hello THERE!!\")\n",
    "results"
   ]
  },
  {
   "cell_type": "code",
   "execution_count": 3,
   "id": "989d03b3",
   "metadata": {},
   "outputs": [
    {
     "name": "stdout",
     "output_type": "stream",
     "text": [
      "Logging signal: Sender: test Args: {'message': 'Hello from Tester'}\n",
      "Received notification: Hello from Tester\n"
     ]
    }
   ],
   "source": [
    "class Notifcation:\n",
    "    def __init__(self, message: str):\n",
    "        events.send(\"test\", message=message)\n",
    "\n",
    "\n",
    "tester = Notifcation(\"Hello from Tester\")"
   ]
  },
  {
   "cell_type": "code",
   "execution_count": 4,
   "id": "1b39a79a",
   "metadata": {},
   "outputs": [
    {
     "name": "stdout",
     "output_type": "stream",
     "text": [
      "Logging signal: Sender: test Args: {'message': 'Hello from Second Tester'}\n",
      "Received notification: Hello from Second Tester\n"
     ]
    },
    {
     "data": {
      "text/plain": [
       "<__main__.Notifcation at 0x7f710bc0f320>"
      ]
     },
     "execution_count": 4,
     "metadata": {},
     "output_type": "execute_result"
    }
   ],
   "source": [
    "Notifcation(\"Hello from Second Tester\")\n"
   ]
  },
  {
   "cell_type": "code",
   "execution_count": 5,
   "id": "087d4c91",
   "metadata": {},
   "outputs": [],
   "source": [
    "from blinker import ANY, signal\n",
    "from typing import TypeVar, Any, Callable\n",
    "import collections.abc as c\n",
    "test2 = signal(\"test2\")\n",
    "\n",
    "F = TypeVar(\"F\", bound=c.Callable[..., Any])\n",
    "\n",
    "def event(signal_name: str, sender: Any = ANY, weak: bool = True) -> c.Callable[[F], F]:\n",
    "    sig = signal(signal_name)\n",
    "    def decorator(fn):\n",
    "        sig.connect(fn, sender, weak)\n",
    "        return fn\n",
    "    return decorator\n"
   ]
  },
  {
   "cell_type": "code",
   "execution_count": null,
   "id": "9b244e4f",
   "metadata": {},
   "outputs": [],
   "source": [
    "@event(\"test2\")\n",
    "def on_test(sender, message: str):\n",
    "    print(f\"Received notification2: {message}\")"
   ]
  },
  {
   "cell_type": "code",
   "execution_count": 7,
   "id": "a2f1e7e1",
   "metadata": {},
   "outputs": [
    {
     "name": "stdout",
     "output_type": "stream",
     "text": [
      "Received notification2: Hello THERE!!\n",
      "140123505369440\n"
     ]
    },
    {
     "data": {
      "text/plain": [
       "<weakref at 0x7f710bbe58f0; to 'function' at 0x7f710bc32160 (on_test)>"
      ]
     },
     "execution_count": 7,
     "metadata": {},
     "output_type": "execute_result"
    }
   ],
   "source": [
    "from blinker.base import make_id\n",
    "test2.send(\"test2\", message=\"Hello THERE!!\")\n",
    "for test in test2.receivers:\n",
    "    print(test)\n",
    "make_id(on_test)\n",
    "test2.receivers[make_id(on_test)]"
   ]
  },
  {
   "cell_type": "code",
   "execution_count": 8,
   "id": "6c487102",
   "metadata": {},
   "outputs": [
    {
     "name": "stdout",
     "output_type": "stream",
     "text": [
      "deque([('job3', 14), ('job4', 15)])\n",
      "Processing: ('job3', 14)\n",
      "Processing: ('job4', 15)\n",
      "deque([])\n"
     ]
    }
   ],
   "source": [
    "from collections import deque\n",
    "\n",
    "queue = deque([])  # list of tuples is fine\n",
    "\n",
    "queue.extend([(\"job3\", 14), (\"job4\", 15)])\n",
    "\n",
    "print(queue)\n",
    "\n",
    "while queue:\n",
    "    item = queue.popleft()  # fast O(1)\n",
    "    print(\"Processing:\", item)\n",
    "    \n",
    "print(queue)"
   ]
  },
  {
   "cell_type": "code",
   "execution_count": 9,
   "id": "749e45e7",
   "metadata": {},
   "outputs": [
    {
     "name": "stdout",
     "output_type": "stream",
     "text": [
      "Logging signal: Sender: user Args: {'message': 'Hello'}\n"
     ]
    },
    {
     "data": {
      "text/plain": [
       "[(<function __main__.log(sender, **kwargs)>, None)]"
      ]
     },
     "execution_count": 9,
     "metadata": {},
     "output_type": "execute_result"
    }
   ],
   "source": [
    "signal(\"events\").send(\"user\", message=\"Hello\")"
   ]
  },
  {
   "cell_type": "code",
   "execution_count": 10,
   "id": "535a6125",
   "metadata": {},
   "outputs": [
    {
     "data": {
      "text/plain": [
       "'cd67d0db60074f7ab1df0852ab2c4aef'"
      ]
     },
     "execution_count": 10,
     "metadata": {},
     "output_type": "execute_result"
    }
   ],
   "source": [
    "from uuid import uuid4\n",
    "str(uuid4().hex)"
   ]
  },
  {
   "cell_type": "code",
   "execution_count": 11,
   "id": "8e85b754",
   "metadata": {},
   "outputs": [
    {
     "data": {
      "text/plain": [
       "'John'"
      ]
     },
     "execution_count": 11,
     "metadata": {},
     "output_type": "execute_result"
    }
   ],
   "source": [
    "class AttrDict(dict):\n",
    "    \"`dict` subclass that also provides access to keys as attrs\"\n",
    "    def __getattr__(self,k): return self[k] if k in self else None\n",
    "    def __setattr__(self, k, v): (self.__setitem__,super().__setattr__)[k[0]=='_'](k,v)\n",
    "    def __dir__(self): return super().__dir__() + list(self.keys())\n",
    "    def copy(self): return AttrDict(**self)\n",
    "\n",
    "\n",
    "signals = AttrDict(message=\"Hello\")\n",
    "signals.message\n",
    "signals.name = \"John\"\n",
    "signals.name or \"No name\"\n",
    "\n"
   ]
  },
  {
   "cell_type": "code",
   "execution_count": 24,
   "id": "25b68db7",
   "metadata": {},
   "outputs": [
    {
     "ename": "TypeError",
     "evalue": "sync_gen() takes 0 positional arguments but 1 was given",
     "output_type": "error",
     "traceback": [
      "\u001b[31m---------------------------------------------------------------------------\u001b[39m",
      "\u001b[31mTypeError\u001b[39m                                 Traceback (most recent call last)",
      "\u001b[36mCell\u001b[39m\u001b[36m \u001b[39m\u001b[32mIn[24]\u001b[39m\u001b[32m, line 7\u001b[39m\n\u001b[32m      3\u001b[39m \u001b[38;5;129m@sigi\u001b[39m.connect\n\u001b[32m      4\u001b[39m \u001b[38;5;28;01mdef\u001b[39;00m\u001b[38;5;250m \u001b[39m\u001b[34mlog\u001b[39m(sender, **kwargs):\n\u001b[32m      5\u001b[39m     \u001b[38;5;28mprint\u001b[39m(\u001b[33mf\u001b[39m\u001b[33m\"\u001b[39m\u001b[33mLogging signal: Sender: \u001b[39m\u001b[38;5;132;01m{\u001b[39;00msender\u001b[38;5;132;01m}\u001b[39;00m\u001b[33m Args: \u001b[39m\u001b[38;5;132;01m{\u001b[39;00mkwargs\u001b[38;5;132;01m}\u001b[39;00m\u001b[33m\"\u001b[39m)\n\u001b[32m----> \u001b[39m\u001b[32m7\u001b[39m \u001b[43msigi\u001b[49m\u001b[43m.\u001b[49m\u001b[43msend\u001b[49m\u001b[43m(\u001b[49m\u001b[43m)\u001b[49m\n",
      "\u001b[36mFile \u001b[39m\u001b[32m~/WebDev/rustyTags/.venv/lib/python3.12/site-packages/blinker/base.py:249\u001b[39m, in \u001b[36mSignal.send\u001b[39m\u001b[34m(self, sender, _async_wrapper, **kwargs)\u001b[39m\n\u001b[32m    247\u001b[39m         result = _async_wrapper(receiver)(sender, **kwargs)\n\u001b[32m    248\u001b[39m     \u001b[38;5;28;01melse\u001b[39;00m:\n\u001b[32m--> \u001b[39m\u001b[32m249\u001b[39m         result = \u001b[43mreceiver\u001b[49m\u001b[43m(\u001b[49m\u001b[43msender\u001b[49m\u001b[43m,\u001b[49m\u001b[43m \u001b[49m\u001b[43m*\u001b[49m\u001b[43m*\u001b[49m\u001b[43mkwargs\u001b[49m\u001b[43m)\u001b[49m\n\u001b[32m    251\u001b[39m     results.append((receiver, result))\n\u001b[32m    253\u001b[39m \u001b[38;5;28;01mreturn\u001b[39;00m results\n",
      "\u001b[31mTypeError\u001b[39m: sync_gen() takes 0 positional arguments but 1 was given"
     ]
    }
   ],
   "source": [
    "sigi = signal(\"sigi\")\n",
    "\n",
    "@sigi.connect\n",
    "def log(sender, **kwargs):\n",
    "    print(f\"Logging signal: Sender: {sender} Args: {kwargs}\")\n",
    "\n",
    "sigi.send()\n",
    "\n"
   ]
  }
 ],
 "metadata": {
  "kernelspec": {
   "display_name": ".venv",
   "language": "python",
   "name": "python3"
  },
  "language_info": {
   "codemirror_mode": {
    "name": "ipython",
    "version": 3
   },
   "file_extension": ".py",
   "mimetype": "text/x-python",
   "name": "python",
   "nbconvert_exporter": "python",
   "pygments_lexer": "ipython3",
   "version": "3.12.9"
  }
 },
 "nbformat": 4,
 "nbformat_minor": 5
}
