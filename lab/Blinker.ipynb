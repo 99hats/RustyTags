{
 "cells": [
  {
   "cell_type": "code",
   "execution_count": 2,
   "id": "e932ffe7",
   "metadata": {},
   "outputs": [],
   "source": [
    "from blinker import signal\n",
    "\n",
    "def send_sig(signal_name, **kwargs):\n",
    "    s = signal(\"events\")\n",
    "    s.send(signal_name,**kwargs)\n",
    "\n",
    "\n",
    "events = signal(\"events\")\n",
    "@events.connect_via(\"test\")\n",
    "def on_test(sender, message: str):\n",
    "    print(f\"Received notification: {message}\")\n",
    "\n",
    "@events.connect\n",
    "def log(sender, **kwargs):\n",
    "    print(f\"Logging signal: Sender: {sender} Args: {kwargs}\")"
   ]
  },
  {
   "cell_type": "code",
   "execution_count": 3,
   "id": "ee27832f",
   "metadata": {},
   "outputs": [
    {
     "name": "stdout",
     "output_type": "stream",
     "text": [
      "Logging signal: Sender: test Args: {'message': 'Hello'}\n",
      "Received notification: Hello\n",
      "Logging signal: Sender: test3 Args: {'a': 2, 'b': 2}\n"
     ]
    },
    {
     "data": {
      "text/plain": [
       "[]"
      ]
     },
     "execution_count": 3,
     "metadata": {},
     "output_type": "execute_result"
    }
   ],
   "source": [
    "send_sig(\"test\", message=\"Hello\")\n",
    "send_sig(\"test3\", **{\"a\": 2, \"b\": 2})\n",
    "signal(\"test2\").send(\"test2\", message=\"Hello THERE!!\")"
   ]
  },
  {
   "cell_type": "code",
   "execution_count": 4,
   "id": "989d03b3",
   "metadata": {},
   "outputs": [
    {
     "name": "stdout",
     "output_type": "stream",
     "text": [
      "Logging signal: Sender: test Args: {'message': 'Hello from Tester'}\n",
      "Received notification: Hello from Tester\n"
     ]
    }
   ],
   "source": [
    "class Notifcation:\n",
    "    def __init__(self, message: str):\n",
    "        events.send(\"test\", message=message)\n",
    "\n",
    "\n",
    "tester = Notifcation(\"Hello from Tester\")"
   ]
  },
  {
   "cell_type": "code",
   "execution_count": 5,
   "id": "1b39a79a",
   "metadata": {},
   "outputs": [
    {
     "name": "stdout",
     "output_type": "stream",
     "text": [
      "Logging signal: Sender: test Args: {'message': 'Hello from Second Tester'}\n",
      "Received notification: Hello from Second Tester\n"
     ]
    },
    {
     "data": {
      "text/plain": [
       "<__main__.Notifcation at 0x7fde28c27470>"
      ]
     },
     "execution_count": 5,
     "metadata": {},
     "output_type": "execute_result"
    }
   ],
   "source": [
    "Notifcation(\"Hello from Second Tester\")\n"
   ]
  },
  {
   "cell_type": "code",
   "execution_count": 6,
   "id": "087d4c91",
   "metadata": {},
   "outputs": [],
   "source": [
    "from blinker import ANY, signal\n",
    "from typing import TypeVar, Any, Callable\n",
    "import collections.abc as c\n",
    "test2 = signal(\"test2\")\n",
    "\n",
    "F = TypeVar(\"F\", bound=c.Callable[..., Any])\n",
    "\n",
    "def event(signal_name: str, sender: Any = ANY, weak: bool = True) -> c.Callable[[F], F]:\n",
    "    sig = signal(signal_name)\n",
    "    def decorator(fn):\n",
    "        sig.connect(fn, sender, weak)\n",
    "        return fn\n",
    "    return decorator\n"
   ]
  },
  {
   "cell_type": "code",
   "execution_count": 7,
   "id": "9b244e4f",
   "metadata": {},
   "outputs": [],
   "source": [
    "@event(\"test2\")\n",
    "def on_test(sender, message: str):\n",
    "    print(f\"Received notification2: {message}\")"
   ]
  },
  {
   "cell_type": "code",
   "execution_count": 17,
   "id": "a2f1e7e1",
   "metadata": {},
   "outputs": [
    {
     "name": "stdout",
     "output_type": "stream",
     "text": [
      "Received notification2: Hello THERE!!\n",
      "140592137968256\n"
     ]
    },
    {
     "data": {
      "text/plain": [
       "<weakref at 0x7fde286fb010; to 'function' at 0x7fde28711a80 (on_test)>"
      ]
     },
     "execution_count": 17,
     "metadata": {},
     "output_type": "execute_result"
    }
   ],
   "source": [
    "from blinker.base import make_id\n",
    "test2.send(\"test2\", message=\"Hello THERE!!\")\n",
    "for test in test2.receivers:\n",
    "    print(test)\n",
    "make_id(on_test)\n",
    "test2.receivers[make_id(on_test)]"
   ]
  },
  {
   "cell_type": "code",
   "execution_count": 9,
   "id": "6c487102",
   "metadata": {},
   "outputs": [
    {
     "name": "stdout",
     "output_type": "stream",
     "text": [
      "deque([('job3', 14), ('job4', 15)])\n",
      "Processing: ('job3', 14)\n",
      "Processing: ('job4', 15)\n",
      "deque([])\n"
     ]
    }
   ],
   "source": [
    "from collections import deque\n",
    "\n",
    "queue = deque([])  # list of tuples is fine\n",
    "\n",
    "queue.extend([(\"job3\", 14), (\"job4\", 15)])\n",
    "\n",
    "print(queue)\n",
    "\n",
    "while queue:\n",
    "    item = queue.popleft()  # fast O(1)\n",
    "    print(\"Processing:\", item)\n",
    "    \n",
    "print(queue)"
   ]
  },
  {
   "cell_type": "code",
   "execution_count": 10,
   "id": "749e45e7",
   "metadata": {},
   "outputs": [
    {
     "name": "stdout",
     "output_type": "stream",
     "text": [
      "Logging signal: Sender: user Args: {'message': 'Hello'}\n"
     ]
    },
    {
     "data": {
      "text/plain": [
       "[(<function __main__.log(sender, **kwargs)>, None)]"
      ]
     },
     "execution_count": 10,
     "metadata": {},
     "output_type": "execute_result"
    }
   ],
   "source": [
    "signal(\"events\").send(\"user\", message=\"Hello\")"
   ]
  },
  {
   "cell_type": "code",
   "execution_count": 19,
   "id": "535a6125",
   "metadata": {},
   "outputs": [
    {
     "data": {
      "text/plain": [
       "'2e4f5a966283494790950047dcf8aaf8'"
      ]
     },
     "execution_count": 19,
     "metadata": {},
     "output_type": "execute_result"
    }
   ],
   "source": [
    "from uuid import uuid4\n",
    "str(uuid4().hex)"
   ]
  },
  {
   "cell_type": "code",
   "execution_count": 41,
   "id": "8e85b754",
   "metadata": {},
   "outputs": [
    {
     "data": {
      "text/plain": [
       "'John'"
      ]
     },
     "execution_count": 41,
     "metadata": {},
     "output_type": "execute_result"
    }
   ],
   "source": [
    "class AttrDict(dict):\n",
    "    \"`dict` subclass that also provides access to keys as attrs\"\n",
    "    def __getattr__(self,k): return self[k] if k in self else None\n",
    "    def __setattr__(self, k, v): (self.__setitem__,super().__setattr__)[k[0]=='_'](k,v)\n",
    "    def __dir__(self): return super().__dir__() + list(self.keys())\n",
    "    def copy(self): return AttrDict(**self)\n",
    "\n",
    "\n",
    "signals = AttrDict(message=\"Hello\")\n",
    "signals.message\n",
    "signals.name = \"John\"\n",
    "signals.name or \"No name\"\n",
    "\n"
   ]
  }
 ],
 "metadata": {
  "kernelspec": {
   "display_name": ".venv",
   "language": "python",
   "name": "python3"
  },
  "language_info": {
   "codemirror_mode": {
    "name": "ipython",
    "version": 3
   },
   "file_extension": ".py",
   "mimetype": "text/x-python",
   "name": "python",
   "nbconvert_exporter": "python",
   "pygments_lexer": "ipython3",
   "version": "3.12.9"
  }
 },
 "nbformat": 4,
 "nbformat_minor": 5
}
