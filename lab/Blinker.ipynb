{
 "cells": [
  {
   "cell_type": "code",
   "execution_count": 1,
   "id": "e932ffe7",
   "metadata": {},
   "outputs": [],
   "source": [
    "from blinker import signal\n",
    "\n",
    "def send_sig(signal_name, **kwargs):\n",
    "    s = signal(\"events\")\n",
    "    s.send(signal_name,**kwargs)\n",
    "\n",
    "\n",
    "events = signal(\"events\")\n",
    "@events.connect_via(\"test\")\n",
    "def on_test(sender, message: str):\n",
    "    print(f\"Received notification: {message}\")\n",
    "\n",
    "@events.connect\n",
    "def log(sender, **kwargs):\n",
    "    print(f\"Logging signal: Sender: {sender} Args: {kwargs}\")"
   ]
  },
  {
   "cell_type": "code",
   "execution_count": 2,
   "id": "ee27832f",
   "metadata": {},
   "outputs": [
    {
     "name": "stdout",
     "output_type": "stream",
     "text": [
      "Logging signal: Sender: test Args: {'message': 'Hello'}\n",
      "Received notification: Hello\n",
      "Logging signal: Sender: test3 Args: {'a': 2, 'b': 2}\n"
     ]
    }
   ],
   "source": [
    "send_sig(\"test\", message=\"Hello\")\n",
    "send_sig(\"test3\", **{\"a\": 2, \"b\": 2})"
   ]
  },
  {
   "cell_type": "code",
   "execution_count": 3,
   "id": "989d03b3",
   "metadata": {},
   "outputs": [
    {
     "name": "stdout",
     "output_type": "stream",
     "text": [
      "Logging signal: Sender: test Args: {'message': 'Hello from Tester'}\n",
      "Received notification: Hello from Tester\n"
     ]
    }
   ],
   "source": [
    "class Notifcation:\n",
    "    def __init__(self, message: str):\n",
    "        events.send(\"test\", message=message)\n",
    "\n",
    "\n",
    "tester = Notifcation(\"Hello from Tester\")"
   ]
  },
  {
   "cell_type": "code",
   "execution_count": 4,
   "id": "1b39a79a",
   "metadata": {},
   "outputs": [
    {
     "name": "stdout",
     "output_type": "stream",
     "text": [
      "Logging signal: Sender: test Args: {'message': 'Hello from Second Tester'}\n",
      "Received notification: Hello from Second Tester\n"
     ]
    },
    {
     "data": {
      "text/plain": [
       "<__main__.Notifcation at 0x7fea7079e6c0>"
      ]
     },
     "execution_count": 4,
     "metadata": {},
     "output_type": "execute_result"
    }
   ],
   "source": [
    "Notifcation(\"Hello from Second Tester\")\n"
   ]
  },
  {
   "cell_type": "code",
   "execution_count": 5,
   "id": "087d4c91",
   "metadata": {},
   "outputs": [],
   "source": [
    "from blinker import ANY, signal\n",
    "from typing import TypeVar, Any, Callable\n",
    "import collections.abc as c\n",
    "test2 = signal(\"test2\")\n",
    "\n",
    "F = TypeVar(\"F\", bound=c.Callable[..., Any])\n",
    "\n",
    "def event(signal_name: str, sender: Any = ANY, weak: bool = True) -> c.Callable[[F], F]:\n",
    "    sig = signal(signal_name)\n",
    "    def decorator(fn):\n",
    "        sig.connect(fn, sender, weak)\n",
    "        return fn\n",
    "    return decorator\n"
   ]
  },
  {
   "cell_type": "code",
   "execution_count": 6,
   "id": "9b244e4f",
   "metadata": {},
   "outputs": [],
   "source": [
    "@event(\"test2\")\n",
    "def on_test(sender, message: str):\n",
    "    print(f\"Received notification2: {message}\")"
   ]
  },
  {
   "cell_type": "code",
   "execution_count": 10,
   "id": "a2f1e7e1",
   "metadata": {},
   "outputs": [
    {
     "name": "stdout",
     "output_type": "stream",
     "text": [
      "Received notification2: Hello THERE!!\n"
     ]
    },
    {
     "data": {
      "text/plain": [
       "[(<function __main__.on_test(sender, message: str)>, None)]"
      ]
     },
     "execution_count": 10,
     "metadata": {},
     "output_type": "execute_result"
    }
   ],
   "source": [
    "test2.send(\"test2\", message=\"Hello THERE!!\")"
   ]
  }
 ],
 "metadata": {
  "kernelspec": {
   "display_name": ".venv",
   "language": "python",
   "name": "python3"
  },
  "language_info": {
   "codemirror_mode": {
    "name": "ipython",
    "version": 3
   },
   "file_extension": ".py",
   "mimetype": "text/x-python",
   "name": "python",
   "nbconvert_exporter": "python",
   "pygments_lexer": "ipython3",
   "version": "3.12.7"
  }
 },
 "nbformat": 4,
 "nbformat_minor": 5
}
